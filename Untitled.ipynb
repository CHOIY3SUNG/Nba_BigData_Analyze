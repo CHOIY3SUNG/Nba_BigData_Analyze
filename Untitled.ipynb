{
 "cells": [
  {
   "cell_type": "code",
   "execution_count": 10,
   "id": "d7580bd3",
   "metadata": {},
   "outputs": [
    {
     "name": "stdout",
     "output_type": "stream",
     "text": [
      "선수 이름: LeBron James\n",
      "평균 득점: 1932.6\n",
      "슛 성공률: 0.5065999999999999\n"
     ]
    }
   ],
   "source": [
    "from nba_api.stats.static import players\n",
    "from nba_api.stats.endpoints import playerdashboardbyyearoveryear\n",
    "\n",
    "# 선수 이름으로 선수 ID 가져오기\n",
    "player_name = 'LeBron James'\n",
    "player_info = players.find_players_by_full_name(player_name)\n",
    "player_id = player_info[0]['id']\n",
    "\n",
    "# 해당 선수의 전체 시즌 평균 스탯 가져오기\n",
    "player_dashboard = playerdashboardbyyearoveryear.PlayerDashboardByYearOverYear(player_id=player_id)\n",
    "player_stats = player_dashboard.get_data_frames()[1]\n",
    "# 평균 득점 계산\n",
    "average_points = player_stats['PTS'].mean()\n",
    "\n",
    "# 슛 성공률 계산\n",
    "field_goal_percentage = player_stats['FG_PCT'].mean()\n",
    "\n",
    "# 선수의 평균 득점 및 슛 성공률 출력\n",
    "print(f\"선수 이름: {player_name}\")\n",
    "print(\"평균 득점:\", average_points)\n",
    "print(\"슛 성공률:\", field_goal_percentage)\n"
   ]
  },
  {
   "cell_type": "code",
   "execution_count": 1,
   "id": "963e4efc",
   "metadata": {},
   "outputs": [
    {
     "name": "stdout",
     "output_type": "stream",
     "text": [
      "       TEAM_ID TEAM_CITY TEAM_NAME     YEAR  GP  WINS  LOSSES  WIN_PCT  \\\n",
      "74  1610612738    Boston   Celtics  2020-21  72    36      36      0.5   \n",
      "\n",
      "    CONF_RANK  DIV_RANK  ...  OREB  DREB   REB   AST    PF  STL   TOV  BLK  \\\n",
      "74          7         4  ...   765  2421  3186  1689  1471  556  1012  383   \n",
      "\n",
      "     PTS  PTS_RANK  \n",
      "74  8109        16  \n",
      "\n",
      "[1 rows x 34 columns]\n"
     ]
    }
   ],
   "source": [
    "from nba_api.stats.static import teams\n",
    "from nba_api.stats.endpoints import teamyearbyyearstats\n",
    "\n",
    "# 팀 코드와 시즌 연도 설정\n",
    "team_id = teams.find_teams_by_full_name('Boston Celtics')[0]['id']\n",
    "season = '2020-21'\n",
    "\n",
    "# 팀의 시즌별 스탯 가져오기\n",
    "team_stats = teamyearbyyearstats.TeamYearByYearStats(team_id=team_id)\n",
    "team_stats_df = team_stats.get_data_frames()[0]\n",
    "\n",
    "# 특정 시즌의 스탯 가져오기\n",
    "season_stats = team_stats_df[team_stats_df['YEAR'] == season]\n",
    "print(season_stats)\n"
   ]
  },
  {
   "cell_type": "code",
   "execution_count": null,
   "id": "400694c1",
   "metadata": {},
   "outputs": [],
   "source": []
  }
 ],
 "metadata": {
  "kernelspec": {
   "display_name": "Python 3 (ipykernel)",
   "language": "python",
   "name": "python3"
  },
  "language_info": {
   "codemirror_mode": {
    "name": "ipython",
    "version": 3
   },
   "file_extension": ".py",
   "mimetype": "text/x-python",
   "name": "python",
   "nbconvert_exporter": "python",
   "pygments_lexer": "ipython3",
   "version": "3.9.12"
  }
 },
 "nbformat": 4,
 "nbformat_minor": 5
}
